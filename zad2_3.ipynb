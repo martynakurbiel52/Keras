{
  "nbformat": 4,
  "nbformat_minor": 0,
  "metadata": {
    "colab": {
      "provenance": [],
      "collapsed_sections": []
    },
    "kernelspec": {
      "name": "python3",
      "display_name": "Python 3"
    },
    "language_info": {
      "name": "python"
    }
  },
  "cells": [
    {
      "cell_type": "code",
      "source": [
        "# Ładowanie potrzebych modułów\n",
        "# MNIST - zbiór obrazów z odręcznie pisanymi cyframi od 0 do 9\n",
        "# Sequential- model sekwencyjny sieci neuronowej\n",
        "\n",
        "from keras.datasets import mnist\n",
        "from keras.utils import np_utils\n",
        "from keras import layers\n",
        "from keras import models\n",
        "from keras.utils import to_categorical\n",
        "from matplotlib import pyplot as plt\n",
        "\n",
        "# Wczytywanie danych\n",
        "(train_images, train_labels), (test_images, test_labels) = mnist.load_data()\n",
        "\n",
        "# Przekształcanie wielkości obrazów do 28x28x1 pixel oraz ich normalizacja\n",
        "train_images = train_images.reshape((60000, 28, 28, 1))\n",
        "train_images = train_images.astype('float32') / 255\n",
        "\n",
        "test_images = test_images.reshape((10000, 28, 28, 1))\n",
        "test_images = test_images.astype('float32') / 255\n",
        "\n",
        "# Pobranie i stworzenie listy klas dla danych\n",
        "train_labels = to_categorical(train_labels)\n",
        "test_labels = to_categorical(test_labels)\n",
        "\n",
        "# Tworzenie modelu sieci\n",
        "model = models.Sequential()\n",
        "\n",
        "# Dodanie pierwszej warstwy konwolucyjnej złożonej z 32 kerneli o wielkości 3x3\n",
        "model.add(layers.Conv2D(32, (3, 3), activation='relu', input_shape=(28, 28, 1)))\n",
        "\n",
        "# Dodanie warstwy zmiejszającej wielkość powstałych obrazów z warstwy konwolucyjnej\n",
        "model.add(layers.MaxPooling2D((2, 2)))\n",
        "\n",
        "# Dodanie drugiej warstwy konwolucyjnej\n",
        "model.add(layers.Conv2D(64, (3, 3), activation='relu'))\n",
        "model.add(layers.Conv2D(64, (3, 3), activation='relu'))\n",
        "model.add(layers.Conv2D(64, (3, 3), activation='relu'))\n",
        "\n",
        "# Dodanie warstwy spłaszczającej dane 2D do 1D\n",
        "\n",
        "model.add(layers.Flatten())\n",
        "\n",
        "# Dodanie warstwy gęstej odpowiedzialnej za klasę - liczbla neuronow = liczba klas\n",
        "model.add(layers.Dense(10, activation='softmax'))\n",
        "\n",
        "#Kompilacja modelu\n",
        "model.compile(optimizer='rmsprop',\n",
        "              loss='categorical_crossentropy',\n",
        "              metrics=['accuracy'])"
      ],
      "metadata": {
        "id": "3as0Ahad7X4Q",
        "outputId": "0a94bd8c-97ba-400f-b91c-f80e2d60763d",
        "colab": {
          "base_uri": "https://localhost:8080/"
        }
      },
      "execution_count": null,
      "outputs": [
        {
          "output_type": "stream",
          "name": "stdout",
          "text": [
            "Downloading data from https://storage.googleapis.com/tensorflow/tf-keras-datasets/mnist.npz\n",
            "11490434/11490434 [==============================] - 0s 0us/step\n"
          ]
        }
      ]
    },
    {
      "cell_type": "code",
      "source": [
        "# Uczenie modelu danymi\n",
        "# epoch - liczba iteracji\n",
        "# batch_size - liczba elemenów z danych treningowych branych podczas pojedyńczego przejścia funkcji uczącej\n",
        "history = model.fit(train_images, train_labels, validation_data=(test_images, test_labels), epochs=5, batch_size=64, verbose=1)\n",
        "\n",
        "print(history.history)\n",
        "# wyświetlenie wykresu przedstawiającego historię uczenia sieci\n",
        "plt.subplot(2, 1, 1)\n",
        "plt.plot(history.history['accuracy'])\n",
        "plt.plot(history.history['val_accuracy'])\n",
        "plt.title('model accuracy')\n",
        "plt.ylabel('accuracy')\n",
        "plt.xlabel('epoch')\n",
        "plt.legend(['train', 'val'], loc='upper left')\n",
        "\n",
        "plt.subplot(2, 1, 2)\n",
        "plt.plot(history.history['loss'])\n",
        "plt.plot(history.history['val_loss'])\n",
        "plt.title('model loss')\n",
        "plt.ylabel('loss')\n",
        "plt.xlabel('epoch')\n",
        "plt.legend(['train', 'val'], loc='upper left')\n",
        "plt.show()"
      ],
      "metadata": {
        "colab": {
          "base_uri": "https://localhost:8080/",
          "height": 506
        },
        "id": "ua57GtDwBia9",
        "outputId": "6b744b5a-1c9d-4a3c-e634-15ffd58d9878"
      },
      "execution_count": null,
      "outputs": [
        {
          "output_type": "stream",
          "name": "stdout",
          "text": [
            "Epoch 1/5\n",
            "938/938 [==============================] - 94s 99ms/step - loss: 0.1356 - accuracy: 0.9588 - val_loss: 0.0567 - val_accuracy: 0.9823\n",
            "Epoch 2/5\n",
            "938/938 [==============================] - 93s 99ms/step - loss: 0.0422 - accuracy: 0.9870 - val_loss: 0.0435 - val_accuracy: 0.9863\n",
            "Epoch 3/5\n",
            "938/938 [==============================] - 93s 99ms/step - loss: 0.0305 - accuracy: 0.9909 - val_loss: 0.0236 - val_accuracy: 0.9923\n",
            "Epoch 4/5\n",
            "938/938 [==============================] - 92s 98ms/step - loss: 0.0241 - accuracy: 0.9931 - val_loss: 0.0247 - val_accuracy: 0.9920\n",
            "Epoch 5/5\n",
            "938/938 [==============================] - 94s 100ms/step - loss: 0.0202 - accuracy: 0.9940 - val_loss: 0.0234 - val_accuracy: 0.9926\n",
            "{'loss': [0.13557970523834229, 0.04216262325644493, 0.03048855811357498, 0.0241167601197958, 0.020170537754893303], 'accuracy': [0.9588333368301392, 0.9869999885559082, 0.9908833503723145, 0.9930833578109741, 0.9940166473388672], 'val_loss': [0.056707825511693954, 0.04347776249051094, 0.02356240525841713, 0.024692529812455177, 0.02337101846933365], 'val_accuracy': [0.9822999835014343, 0.986299991607666, 0.9922999739646912, 0.9919999837875366, 0.9926000237464905]}\n"
          ]
        },
        {
          "output_type": "display_data",
          "data": {
            "text/plain": [
              "<Figure size 432x288 with 2 Axes>"
            ],
            "image/png": "[encoded data removed]"
          },
          "metadata": {
            "needs_background": "light"
          }
        }
      ]
    },
    {
      "cell_type": "markdown",
      "source": [
        "### Zad 2"
      ],
      "metadata": {
        "id": "u6-I8pETKX0R"
      }
    },
    {
      "cell_type": "code",
      "source": [
        "model.save('models/mnist_model.h5')"
      ],
      "metadata": {
        "id": "gAaogGN4CrGC"
      },
      "execution_count": null,
      "outputs": []
    },
    {
      "cell_type": "code",
      "source": [
        "import tensorflow as tf\n",
        "\n",
        "pretrained_model = tf.keras.models.load_model('models/mnist_model.h5')\n",
        "pretrained_model.summary()"
      ],
      "metadata": {
        "colab": {
          "base_uri": "https://localhost:8080/"
        },
        "id": "KRq78ETACfMA",
        "outputId": "997238b9-fcba-4b25-ba2b-1318952a82ef"
      },
      "execution_count": null,
      "outputs": [
        {
          "output_type": "stream",
          "name": "stdout",
          "text": [
            "Model: \"sequential\"\n",
            "_________________________________________________________________\n",
            " Layer (type)                Output Shape              Param #   \n",
            "=================================================================\n",
            " conv2d (Conv2D)             (None, 26, 26, 32)        320       \n",
            "                                                                 \n",
            " max_pooling2d (MaxPooling2D  (None, 13, 13, 32)       0         \n",
            " )                                                               \n",
            "                                                                 \n",
            " conv2d_1 (Conv2D)           (None, 11, 11, 64)        18496     \n",
            "                                                                 \n",
            " conv2d_2 (Conv2D)           (None, 9, 9, 64)          36928     \n",
            "                                                                 \n",
            " conv2d_3 (Conv2D)           (None, 7, 7, 64)          36928     \n",
            "                                                                 \n",
            " flatten (Flatten)           (None, 3136)              0         \n",
            "                                                                 \n",
            " dense (Dense)               (None, 10)                31370     \n",
            "                                                                 \n",
            "=================================================================\n",
            "Total params: 124,042\n",
            "Trainable params: 124,042\n",
            "Non-trainable params: 0\n",
            "_________________________________________________________________\n"
          ]
        }
      ]
    },
    {
      "cell_type": "code",
      "source": [
        "pretrained_model.evaluate(test_images, test_labels, verbose=2)"
      ],
      "metadata": {
        "colab": {
          "base_uri": "https://localhost:8080/"
        },
        "id": "KOjqyR3DDCo1",
        "outputId": "e06bb0d0-a645-406a-9317-0e1bb384f480"
      },
      "execution_count": null,
      "outputs": [
        {
          "output_type": "stream",
          "name": "stdout",
          "text": [
            "313/313 - 5s - loss: 0.0234 - accuracy: 0.9926 - 5s/epoch - 15ms/step\n"
          ]
        },
        {
          "output_type": "execute_result",
          "data": {
            "text/plain": [
              "[0.023371007293462753, 0.9926000237464905]"
            ]
          },
          "metadata": {},
          "execution_count": 49
        }
      ]
    },
    {
      "cell_type": "markdown",
      "source": [
        "### Zad 3"
      ],
      "metadata": {
        "id": "5UxKcNXGKVWb"
      }
    },
    {
      "cell_type": "code",
      "source": [
        "import cv2\n",
        "\n",
        "image_index = 15\n",
        "\n",
        "im = test_images[image_index]\n",
        "cv2.imwrite(\"filename.png\", im)\n",
        "\n",
        "image = cv2.imread(\"filename.png\", cv2.IMREAD_GRAYSCALE)\n",
        "\n",
        "plt.imshow(image,cmap='Greys')\n",
        "pred = pretrained_model.predict(image.reshape(1, 28, 28, 1))\n",
        "print(pred.argmax())"
      ],
      "metadata": {
        "id": "aFRw-ERBGWIq",
        "outputId": "0c739205-fb81-4f05-9f12-f15661684dde",
        "colab": {
          "base_uri": "https://localhost:8080/",
          "height": 300
        }
      },
      "execution_count": null,
      "outputs": [
        {
          "output_type": "stream",
          "name": "stdout",
          "text": [
            "1/1 [==============================] - 0s 66ms/step\n",
            "5\n"
          ]
        },
        {
          "output_type": "display_data",
          "data": {
            "text/plain": [
              "<Figure size 432x288 with 1 Axes>"
            ],
            "image/png": "[encoded data removed]"
          },
          "metadata": {
            "needs_background": "light"
          }
        }
      ]
    }
  ]
}